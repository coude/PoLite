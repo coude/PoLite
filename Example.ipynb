{
 "cells": [
  {
   "cell_type": "code",
   "execution_count": null,
   "metadata": {},
   "outputs": [],
   "source": [
    "# Importing the PoLite package\n",
    "import PoLite as pol\n",
    "\n",
    "# Define the name for the file to be imported\n",
    "hawc_file = '30dor_hawc_d.fits'\n",
    "\n",
    "# Load the HAWC+ file into an \"obs\" object\n",
    "polobs = pol.load_hawc(hawc_file)"
   ]
  },
  {
   "cell_type": "code",
   "execution_count": null,
   "metadata": {},
   "outputs": [],
   "source": [
    "# Creating polarization map\n",
    "polmap = polobs.polmap()\n",
    "polmap.savefig('polmap.png',dpi=300)"
   ]
  },
  {
   "cell_type": "code",
   "execution_count": null,
   "metadata": {},
   "outputs": [],
   "source": [
    "# Create a magnetic field map\n",
    "Bmap = polobs.Bmap()\n",
    "Bmap.savefig('Bmap.png',dpi=300)"
   ]
  },
  {
   "cell_type": "code",
   "execution_count": null,
   "metadata": {},
   "outputs": [],
   "source": [
    "# Creating the vector catalog for the whole region\n",
    "BigCat = polobs.MakeCat()\n",
    "\n",
    "# Plotting the histogram and the Gaussian fit for the catalog\n",
    "BigHisto, BigFit = BigCat.Histogram()\n",
    "BigHisto.savefig('BigCat.png',dpi=300)"
   ]
  },
  {
   "cell_type": "code",
   "execution_count": null,
   "metadata": {},
   "outputs": [],
   "source": [
    "# Creating a mask near the middle of the map\n",
    "ra_center = 84.7113270 # in degrees\n",
    "dec_center = -69.0763705 # in degrees\n",
    "ra_size = 0.0257753  # in degrees\n",
    "dec_size = 0.0254222 # in degrees\n",
    "PolMask = polobs.MaskRegion(shape='Rectangle', center_RA=ra_center, \n",
    "                            center_DEC=dec_center,width=ra_size,\n",
    "                            height=dec_size)\n",
    "\n",
    "Bmap2 = polobs.Bmap()\n",
    "Bmap2.show_rectangles(xw=ra_center,yw=dec_center,width=ra_size,\n",
    "                     height=dec_size,edgecolor='black')\n",
    "Bmap2.savefig('Bmap2.png',dpi=300)"
   ]
  },
  {
   "cell_type": "code",
   "execution_count": null,
   "metadata": {},
   "outputs": [],
   "source": [
    "# The MakeCat() function can use the mask above to create a smaller catalog\n",
    "SmallCat = polobs.MakeCat(mask=PolMask)\n",
    "\n",
    "# Plotting the histogram and the Gaussian fit for the smaller catalog\n",
    "SmallHisto, SmallFit = SmallCat.Histogram()\n",
    "SmallHisto.savefig('SmallCat.png',dpi=300)"
   ]
  },
  {
   "cell_type": "code",
   "execution_count": null,
   "metadata": {},
   "outputs": [],
   "source": [
    "# Creating and fitting the Angular Dispersion Function\n",
    "ADFfit = SmallCat.ADF(binsize=4.0, deltaPrime=20, beamsize=13, binrange=80.0)"
   ]
  }
 ],
 "metadata": {
  "kernelspec": {
   "display_name": "Python 3.10.8 64-bit",
   "language": "python",
   "name": "python3"
  },
  "language_info": {
   "codemirror_mode": {
    "name": "ipython",
    "version": 3
   },
   "file_extension": ".py",
   "mimetype": "text/x-python",
   "name": "python",
   "nbconvert_exporter": "python",
   "pygments_lexer": "ipython3",
   "version": "3.10.8"
  },
  "orig_nbformat": 4,
  "vscode": {
   "interpreter": {
    "hash": "7101ca937a6cefa303d920fd1335fe82956cc294edbf5f7bc268a5a56c54bb64"
   }
  }
 },
 "nbformat": 4,
 "nbformat_minor": 2
}
